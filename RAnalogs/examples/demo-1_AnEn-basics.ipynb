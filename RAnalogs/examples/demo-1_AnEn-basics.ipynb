{
 "cells": [
  {
   "cell_type": "code",
   "execution_count": null,
   "metadata": {
    "Rmd_chunk_options": "setup, include=F",
    "autoscroll": false,
    "collapsed": true
   },
   "outputs": [],
   "source": [
    "library(RAnEn)\n",
    "library(maps)\n",
    "\n",
    "stopifnot(packageVersion('RAnEn')>=\"3.5.0\")"
   ]
  },
  {
   "cell_type": "markdown",
   "metadata": {},
   "source": [
    "\n",
    "## Introduction\n",
    "\n",
    "This article walks you through the basic usage of the `RAnEn` library. This exercise uses short-term surface temperature forecasts as an example. Recommend using [binder](https://mybinder.org/badge.svg) and the corresponding `.ipynb` file will guide you through the script line by line.\n",
    "\n",
    "You will learn how to use these functions:\n",
    "\n",
    "- `generateConfiguration`\n",
    "- `generateAnalogs`\n",
    "- `verify*` functions\n",
    "\n",
    "## Data Description\n",
    "\n",
    "First, let's load the prepared NAM model forecasts and analysis. You can find the data in this direct folder if you want to run this script locally.\n",
    "\n"
   ]
  },
  {
   "cell_type": "code",
   "execution_count": null,
   "metadata": {
    "autoscroll": false,
    "collapsed": true
   },
   "outputs": [],
   "source": [
    "file.name <- 'data-NAM-StateCollege.RData'\n",
    "# file.name <- 'data-NAM-Denver.RData'\n",
    "# file.name <- 'data-METAR-CONUS.Rdata'\n",
    "\n",
    "if (!file.exists(file.name)) {\n",
    "  cat('Downloading from the data server which might be slow ...\\n')\n",
    "  download.file(url = paste('https://prosecco.geog.psu.edu/', file.name, sep = ''),\n",
    "                destfile = file.name)\n",
    "}\n",
    "load(file.name)\n",
    "rm(file.name)\n",
    "\n",
    "print(ls())"
   ]
  },
  {
   "cell_type": "markdown",
   "metadata": {},
   "source": [
    "\n",
    "The following parameters are included and provided in the dataset.\n",
    "\n"
   ]
  },
  {
   "cell_type": "code",
   "execution_count": null,
   "metadata": {
    "autoscroll": false,
    "collapsed": true
   },
   "outputs": [],
   "source": [
    "print(forecasts$ParameterNames)"
   ]
  },
  {
   "cell_type": "markdown",
   "metadata": {},
   "source": [
    "\n",
    "Foreacsts and analysis have the following time span. Because the original time values record the number of seconds since an original time, the function `as.POSIXct` is used to convert them to readable date-time class objects. Alternatively, `RAnEn::toDateTime` can complete the same action. It is a convenient wrapper function of `as.POSIXct`.\n",
    "\n"
   ]
  },
  {
   "cell_type": "code",
   "execution_count": null,
   "metadata": {
    "autoscroll": false,
    "collapsed": true
   },
   "outputs": [],
   "source": [
    "print(as.POSIXct(range(forecasts$Times), origin = '1970-01-01', tz = 'UTC'))\n",
    "print(as.POSIXct(range(observations$Times), origin = '1970-01-01', tz = 'UTC'))"
   ]
  },
  {
   "cell_type": "markdown",
   "metadata": {},
   "source": [
    "\n",
    "Coordinates in lat/lon are provided for each grid point. We can plot them on maps. **Note that coordinates start from the bottom left and proceed in a row-wise order**. There are 11 rows and 11 columns of grid points in the data sets.\n",
    "\n"
   ]
  },
  {
   "cell_type": "code",
   "execution_count": null,
   "metadata": {
    "autoscroll": false,
    "collapsed": true
   },
   "outputs": [],
   "source": [
    "map('county', regions = 'pennsylvania', col = 'grey')\n",
    "points(forecasts$Xs - 360, forecasts$Ys, pch = 16, cex = .3, col = 'red')"
   ]
  },
  {
   "cell_type": "markdown",
   "metadata": {},
   "source": [
    "\n",
    "Finally, let's look at the dimensions of forecasts and analysis.\n",
    "\n"
   ]
  },
  {
   "cell_type": "code",
   "execution_count": null,
   "metadata": {
    "autoscroll": false,
    "collapsed": true
   },
   "outputs": [],
   "source": [
    "print(dim(forecasts$Data))\n",
    "print(dim(observations$Data))"
   ]
  },
  {
   "cell_type": "markdown",
   "metadata": {},
   "source": [
    "\n",
    "Forecasts have 4 dimensions which include parameters, stations/grid points, days, and Forecast Lead Times (FLTs). Analysis have 3 dimensions which include parameters, stations/grid points, and time.\n",
    "\n",
    "## Generate Temperature Forecasts\n",
    "\n",
    "Now that we have a general idea of the data, we can generate temperature forecasts. The steps to generate AnEn forecasts are as follow:\n",
    "\n",
    "- Initialize a configuration\n",
    "- Set up options\n",
    "- Generate AnEn\n",
    "\n",
    "First, we set up the configuration. We generate an AnEn for one day using about one year of historical data for all the grid points available. For a full list of avaiable options, please check the document for [RAnEn::generateConfiguration](https://weiming-hu.github.io/AnalogsEnsemble/R/reference/generateConfiguration.html).\n",
    "\n"
   ]
  },
  {
   "cell_type": "code",
   "execution_count": null,
   "metadata": {
    "autoscroll": false,
    "collapsed": true
   },
   "outputs": [],
   "source": [
    "# We use independent search configuration.\n",
    "config <- generateConfiguration('independentSearch')\n",
    "\n",
    "# Set up the start and end indices for test times\n",
    "test.start <- 366\n",
    "test.end <- 372\n",
    "\n",
    "# Set up the start and end indices for search times\n",
    "search.start <- 1\n",
    "search.end <- 365\n",
    "\n",
    "# Set up forecasts and the time, FLT information\n",
    "config$forecasts <- forecasts$Data\n",
    "config$forecast_times <- forecasts$Times\n",
    "config$flts <- forecasts$FLTs\n",
    "\n",
    "# Set up observations and the time information\n",
    "config$search_observations <- observations$Data\n",
    "config$observation_times <- observations$Times\n",
    "\n",
    "# Set up the number of members to keep in the analog ensemble\n",
    "# Empirically, the number of members is the square root of number of search times.\n",
    "config$num_members <- sqrt(search.end - search.start + 1)\n",
    "\n",
    "# Set up the variable that we want to generate AnEn for.\n",
    "# This is the index of parameter in observation parameter names.\n",
    "#\n",
    "config$observation_id <- 8\n",
    "\n",
    "# Set up weights for each parameters\n",
    "config$weights <- c(1, 1, 0, 0, 0, 0, 0, 1, 0, 0, 0, 0, 0, 0, 0, 1, 1)\n",
    "\n",
    "# Set the test times to generate AnEn for\n",
    "config$test_times_compare <- forecasts$Times[test.start:test.end]\n",
    "\n",
    "# Set the search times to generate AnEn from\n",
    "config$search_times_compare <- forecasts$Times[search.start:search.end]\n",
    "\n",
    "# Set circular variable if there is any\n",
    "if ('ParameterCirculars' %in% names(forecasts)) {\n",
    "  config$circulars <- unlist(lapply(forecasts$ParameterCirculars, function(x) {\n",
    "    return(which(x == forecasts$ParameterNames))}))\n",
    "}"
   ]
  },
  {
   "cell_type": "markdown",
   "metadata": {},
   "source": [
    "\n",
    "Now we can generate an AnEn. This could take a while. On a Mac Air, it takes about 2 minutes.\n",
    "\n"
   ]
  },
  {
   "cell_type": "code",
   "execution_count": null,
   "metadata": {
    "autoscroll": false,
    "collapsed": true
   },
   "outputs": [],
   "source": [
    "AnEn <- generateAnalogs(config)"
   ]
  },
  {
   "cell_type": "markdown",
   "metadata": {},
   "source": [
    "\n",
    "The result variable `AnEn` is a list of members. Let's check what the members are.\n",
    "\n"
   ]
  },
  {
   "cell_type": "code",
   "execution_count": null,
   "metadata": {
    "autoscroll": false,
    "collapsed": true
   },
   "outputs": [],
   "source": [
    "print(AnEn)"
   ]
  },
  {
   "cell_type": "markdown",
   "metadata": {},
   "source": [
    "\n",
    "## Verification\n",
    "\n",
    "Finally, let's extract the AnEn forecast values and the corresponding observations.\n",
    "\n"
   ]
  },
  {
   "cell_type": "code",
   "execution_count": null,
   "metadata": {
    "autoscroll": false,
    "collapsed": true
   },
   "outputs": [],
   "source": [
    "# Collect analog ensemble values\n",
    "anen <- AnEn$analogs[, , , , 1]\n",
    "\n",
    "# Collect observations for the test period and the forecasted weather variable\n",
    "obs <- alignObservations(observations$Data, observations$Times,\n",
    "                         config$test_times_compare, config$flts,\n",
    "                         silent = T, show.progress = F)\n",
    "obs <- obs[config$observation_id, , , ]"
   ]
  },
  {
   "cell_type": "markdown",
   "metadata": {},
   "source": [
    "\n",
    "Then we can generate verification statistics, and see how AnEn is performing.\n",
    "\n"
   ]
  },
  {
   "cell_type": "code",
   "execution_count": null,
   "metadata": {
    "autoscroll": false,
    "collapsed": true
   },
   "outputs": [],
   "source": [
    "# Generate verification metrics\n",
    "ret.MAE <- verifyMAE(anen, obs)\n",
    "ret.RMSE <- verifyRMSE(anen, obs)\n",
    "ret.Bias <- verifyBias(anen, obs)\n",
    "ret.RH <- verifyRankHist(anen, obs)\n",
    "\n",
    "# Let's make some figures\n",
    "par(mfrow = c(4, 1), mar = c(3, 4.5, 1, 1))\n",
    "plot(config$flts/3600, ret.MAE$flt, type = 'b', pch = 1, cex = 0.5,\n",
    "     xlab = '', ylab = 'MAE')\n",
    "plot(config$flts/3600, ret.RMSE$flt, type = 'b', pch = 1, cex = 0.5,\n",
    "     xlab = '', ylab = 'RMSE')\n",
    "plot(config$flts/3600, ret.Bias$flt, type = 'b', pch = 1, cex = 0.5,\n",
    "     xlab = 'Lead Times (h)', ylab = 'Bias')\n",
    "barplot(ret.RH$rank, ylab = 'Rank Frequency')"
   ]
  },
  {
   "cell_type": "markdown",
   "metadata": {},
   "source": [
    "\n"
   ]
  }
 ],
 "metadata": {
  "Rmd_header": {
   "author": "Weiming Hu",
   "date": "October 29, 2018",
   "output": "html_document",
   "title": "Demo 1: Analog Ensemble Basics"
  },
  "kernelspec": {
   "display_name": "R",
   "language": "R",
   "name": "ir"
  },
  "language_info": {
   "codemirror_mode": "r",
   "file_extension": ".r",
   "mimetype": "text/x-r-source",
   "name": "R",
   "pygments_lexer": "r"
  }
 },
 "nbformat": 4,
 "nbformat_minor": 0
}
