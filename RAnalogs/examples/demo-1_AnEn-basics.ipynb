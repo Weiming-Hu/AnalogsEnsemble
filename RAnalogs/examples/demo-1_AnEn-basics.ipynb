{
 "cells": [
  {
   "cell_type": "code",
   "execution_count": null,
   "metadata": {
    "Rmd_chunk_options": "setup, include=F",
    "autoscroll": false,
    "collapsed": true
   },
   "outputs": [],
   "source": [
    "library(RAnEn)\n",
    "library(maps)\n",
    "library(raster)\n",
    "library(RColorBrewer)"
   ]
  },
  {
   "cell_type": "markdown",
   "metadata": {},
   "source": [
    "\n",
    "## Introduction\n",
    "\n",
    "This article walks you through the basic usage of the `RAnEn` library in a practice of short-term surface temperature forecasts. Data are prepared using the `generate-data.R` script, and collected from [North American Mesoscale Forecast System (NAM)](https://www.ncdc.noaa.gov/data-access/model-data/model-datasets/north-american-mesoscale-forecast-system-nam).\n",
    "\n",
    "You will learn how to use these functions:\n",
    "\n",
    "- `generateConfiguration`\n",
    "- `generateAnalogs`\n",
    "- `biasCorrection`\n",
    "\n",
    "## Data Description\n",
    "\n",
    "First, let's load the prepared NAM model forecasts and analysis.\n",
    "\n"
   ]
  },
  {
   "cell_type": "code",
   "execution_count": null,
   "metadata": {
    "autoscroll": false,
    "collapsed": true
   },
   "outputs": [],
   "source": [
    "load('analysis.RData')\n",
    "load('forecasts.RData')\n",
    "print(ls())"
   ]
  },
  {
   "cell_type": "markdown",
   "metadata": {},
   "source": [
    "\n",
    "In total, `r length(forecast.par.names)` parameters are provided in the forecast data set.\n",
    "\n"
   ]
  },
  {
   "cell_type": "code",
   "execution_count": null,
   "metadata": {
    "autoscroll": false,
    "collapsed": true
   },
   "outputs": [],
   "source": [
    "print(forecast.par.names)"
   ]
  },
  {
   "cell_type": "markdown",
   "metadata": {},
   "source": [
    "\n",
    "Foreacsts and analysis have the following time range.\n",
    "\n"
   ]
  },
  {
   "cell_type": "code",
   "execution_count": null,
   "metadata": {
    "autoscroll": false,
    "collapsed": true
   },
   "outputs": [],
   "source": [
    "print(range(forecast.times))\n",
    "print(range(analysis.times))"
   ]
  },
  {
   "cell_type": "markdown",
   "metadata": {},
   "source": [
    "\n",
    "Coordinates in lat/lon are provided for grid points. We can plot them on maps. Note that coordinates start from the bottom left grid point and proceed in a row-wise order. There are 11 rows and 11 columns of grid points in the data sets.\n",
    "\n"
   ]
  },
  {
   "cell_type": "code",
   "execution_count": null,
   "metadata": {
    "autoscroll": false,
    "collapsed": true
   },
   "outputs": [],
   "source": [
    "map('state', regions = c('pennsylvania', 'new york', 'virginia'), col = 'grey')\n",
    "map('usa', add = T)\n",
    "points(forecast.xs - 360, forecast.ys, pch = 16, cex = .3, col = 'red')"
   ]
  },
  {
   "cell_type": "markdown",
   "metadata": {},
   "source": [
    "\n",
    "Finally, let's look at the dimensions of forecasts and analysis.\n",
    "\n"
   ]
  },
  {
   "cell_type": "code",
   "execution_count": null,
   "metadata": {
    "autoscroll": false,
    "collapsed": true
   },
   "outputs": [],
   "source": [
    "print(dim(forecasts))\n",
    "print(dim(analysis))"
   ]
  },
  {
   "cell_type": "markdown",
   "metadata": {},
   "source": [
    "\n",
    "Forecasts have 4 dimensions. They are parameters, stations/grid points, days, and Forecast Lead Times (FLTs). Analysis have 3 dimensions. They are parameters, stations/grid points, and time.\n",
    "\n",
    "## Generate Temperature Forecasts\n",
    "\n",
    "Now that we have a general idea of the data, we can generate temperature forecasts. The steps to generate AnEn forecasts are as follow:\n",
    "\n",
    "- Initialize a configuration\n",
    "- Set up options\n",
    "- Generate AnEn\n",
    "\n",
    "First, we set up the configuration. We generate AnEn for one day using about one year of historical data for all the grid points available. If you don't understand any of the options, please see the [document](https://weiming-hu.github.io/AnalogsEnsemble/R/reference/generateConfiguration.html).\n",
    "\n"
   ]
  },
  {
   "cell_type": "code",
   "execution_count": null,
   "metadata": {
    "Rmd_chunk_options": "echo=FALSE",
    "autoscroll": false,
    "collapsed": true
   },
   "outputs": [],
   "source": [
    "# We use independent search configuration.\n",
    "config <- generateConfiguration('independentSearch')\n",
    "\n",
    "# Set up options\n",
    "test.start <- 400\n",
    "test.end <- 400\n",
    "search.start <- 1\n",
    "search.end <- 370\n",
    "\n",
    "# Set up forecasts and the time, FLT information\n",
    "config$forecasts <- forecasts[, , , , drop = F]\n",
    "config$forecast_times <- forecast.times\n",
    "config$flts <- flts\n",
    "\n",
    "# Set up observations and the time information\n",
    "config$search_observations <- analysis\n",
    "config$observation_times <- analysis.times\n",
    "\n",
    "# Set up some other parameters\n",
    "config$weights <- rep(1, dim(forecasts)[1])\n",
    "config$num_members <- 19\n",
    "config$verbose <- 3\n",
    "\n",
    "# Set the test times\n",
    "config$test_times_compare <- forecast.times[test.start:test.end]\n",
    "\n",
    "# Set the search times\n",
    "config$search_times_compare <- forecast.times[search.start:search.end]"
   ]
  },
  {
   "cell_type": "markdown",
   "metadata": {},
   "source": [
    "\n",
    "Now we can generate AnEn.\n",
    "\n"
   ]
  },
  {
   "cell_type": "code",
   "execution_count": null,
   "metadata": {
    "autoscroll": false,
    "collapsed": true
   },
   "outputs": [],
   "source": [
    "AnEn <- generateAnalogs(config)"
   ]
  },
  {
   "cell_type": "markdown",
   "metadata": {},
   "source": [
    "\n",
    "Then we need to bias correct AnEn because we are using AnEn on a gridded product.\n",
    "\n"
   ]
  },
  {
   "cell_type": "code",
   "execution_count": null,
   "metadata": {
    "autoscroll": false,
    "collapsed": true
   },
   "outputs": [],
   "source": [
    "AnEn <- biasCorrection(AnEn, config, forecast.ID = 1, group.func = mean,\n",
    "                       na.rm = T, show.progress = F, keep.bias = T)"
   ]
  },
  {
   "cell_type": "markdown",
   "metadata": {},
   "source": [
    "\n",
    "`AnEn` is a list of results. Let's check what we have in it.\n",
    "\n"
   ]
  },
  {
   "cell_type": "code",
   "execution_count": null,
   "metadata": {
    "autoscroll": false,
    "collapsed": true
   },
   "outputs": [],
   "source": [
    "print(AnEn)"
   ]
  },
  {
   "cell_type": "markdown",
   "metadata": {},
   "source": [
    "\n",
    "## Visualization\n",
    "\n",
    "Finally, we can plot together the analysis, the forecasts, the AnEn, and the bias corrected AnEn. Below the figures are the respective RMSE.\n",
    "\n"
   ]
  },
  {
   "cell_type": "code",
   "execution_count": null,
   "metadata": {
    "autoscroll": false,
    "collapsed": true
   },
   "outputs": [],
   "source": [
    "# Choose a FLT to plot\n",
    "i.flt <- 31\n",
    "\n",
    "# Calculate ensemble means\n",
    "mean.analogs <- apply(AnEn$analogs[, , , , 1, drop = F], c(1, 2, 3), mean, na.rm = T)\n",
    "mean.analogs.cor <- apply(AnEn$analogs.cor[, , , , 1, drop = F], c(1, 2, 3), mean, na.rm = T)\n",
    "\n",
    "# Create an empty raster for the geographical region\n",
    "xy <- cbind(as.numeric(forecast.xs) - 360, as.numeric(forecast.ys))\n",
    "colnames(xy) = c('x', 'y')\n",
    "ext <- extent(xy[, c('x', 'y')])\n",
    "rast <- raster(ext, nrow = 11, ncol = 11, crs = CRS(\"+proj=longlat +datum=WGS84\"))\n",
    "\n",
    "# Rasterize the data values\n",
    "rast.anen <- rasterize(xy[, c('x', 'y')], rast, mean.analogs[, 1, i.flt], fun = mean)\n",
    "rast.anen.cor <- rasterize(xy[, c('x', 'y')], rast, mean.analogs.cor[, 1, i.flt], fun = mean)\n",
    "rast.fcts <- rasterize(xy[, c('x', 'y')], rast, forecasts[1, , test.start, i.flt], fun = mean)\n",
    "rast.anly <- rasterize(xy[, c('x', 'y')], rast, analysis[\n",
    "  1, , which(analysis.times == forecast.times[test.start] + flts[i.flt])], fun = mean)\n",
    "\n",
    "# Calculate RMSE\n",
    "rmse.fcts <- sqrt(mean((values(rast.fcts - rast.anly))^2, na.rm = T))\n",
    "rmse.anen <- sqrt(mean((values(rast.anen - rast.anly))^2, na.rm = T))\n",
    "rmse.anen.cor <- sqrt(mean((values(rast.anen.cor - rast.anly))^2, na.rm = T))\n",
    "\n",
    "# Create a color scale with 100 colors\n",
    "cols <- colorRampPalette(brewer.pal(11, 'Spectral')[11:1])(100)\n",
    "\n",
    "# Define value limit\n",
    "zlim <- range(c(values(rast.fcts), values(rast.anen),\n",
    "                values(rast.anly), values(rast.anen.cor)),\n",
    "              na.rm = T)\n",
    "# Visualization\n",
    "par(mfrow = c(2, 2), mar = c(4, 1, 3, 3))\n",
    "plot(rast.anly, main = 'NAM Analysis', col = cols, zlim = zlim, legend = F)\n",
    "map(col = 'grey', add = T); map('state', add = T)\n",
    "plot(rast.fcts, main = 'NAM Forecasts', col = cols, zlim = zlim,\n",
    "     xlab = paste('RMSE =', round(rmse.fcts, 4)))\n",
    "map(col = 'grey', add = T); map('state', add = T)\n",
    "plot(rast.anen, main = 'AnEn Averaged', col = cols, zlim = zlim,\n",
    "     legend = F, xlab = paste('RMSE =', round(rmse.anen, 4)))\n",
    "map(col = 'grey', add = T); map('state', add = T)\n",
    "plot(rast.anen.cor, main = 'Bias Corrected AnEn Averaged', col = cols,\n",
    "     zlim = zlim, xlab = paste('RMSE =', round(rmse.anen.cor, 4)))\n",
    "map(col = 'grey', add = T); map('state', add = T)"
   ]
  },
  {
   "cell_type": "markdown",
   "metadata": {},
   "source": [
    "\n"
   ]
  }
 ],
 "metadata": {
  "Rmd_header": {
   "author": "Weiming Hu",
   "date": "October 29, 2018",
   "output": "html_document",
   "title": "Demo 1: Analog Ensemble Basics"
  },
  "kernelspec": {
   "display_name": "R",
   "language": "R",
   "name": "ir"
  },
  "language_info": {
   "codemirror_mode": "r",
   "file_extension": ".r",
   "mimetype": "text/x-r-source",
   "name": "R",
   "pygments_lexer": "r"
  }
 },
 "nbformat": 4,
 "nbformat_minor": 0
}
