{
 "cells": [
  {
   "cell_type": "markdown",
   "metadata": {},
   "source": [
    "\n",
    "## Introduction\n",
    "\n",
    "This tutorial was originally prepared for the [SEA Scientific Software Conference and Tutorials 2019](https://sea.ucar.edu/conference/2019). The abstract of the workshop can be accessed from [here](https://sea.ucar.edu/event/parallel-analog-ensemble-forecasts-ensemble-toolkit-hpc).\n",
    "\n",
    "This hands-on exercise will help you generate your first Analog Ensemble (AnEn) and guide you through your first use of the `RAnEn` library. You will learn how to load and format your data, generate a configuration file, and generate an ensemble of analogs. You will learn how to use these functions:\n",
    "\n",
    "- `generateConfiguration`\n",
    "- `generateAnalogs`\n",
    "\n",
    "## R Set Up\n",
    "\n",
    "First, let's load the R libraries we will use.\n",
    "\n"
   ]
  },
  {
   "cell_type": "code",
   "execution_count": null,
   "metadata": {
    "Rmd_chunk_options": "setup, include=F",
    "autoscroll": false,
    "collapsed": true
   },
   "outputs": [],
   "source": [
    "library(RAnEn)\n",
    "library(maps)\n",
    "\n",
    "# Check your version\n",
    "stopifnot(packageVersion('RAnEn') >= \"3.3.1\")"
   ]
  },
  {
   "cell_type": "markdown",
   "metadata": {},
   "source": [
    "\n",
    "## Load Data\n",
    "\n",
    "Next, let's load our data. Our data comes from METAR sites distributed across the continental U.S. The dataset is graciously provided by NCAR for our use today.\n",
    "\n"
   ]
  },
  {
   "cell_type": "code",
   "execution_count": null,
   "metadata": {
    "autoscroll": false,
    "collapsed": true
   },
   "outputs": [],
   "source": [
    "file.name <- 'data-METAR-CONUS.Rdata'\n",
    "\n",
    "if (!file.exists(file.name)) {\n",
    "  cat('Downloading from the data server which might be slow ...\\n')\n",
    "  download.file(url = paste('https://prosecco.geog.psu.edu/', file.name, sep = ''),\n",
    "                destfile = file.name)\n",
    "}\n",
    "\n",
    "load(file.name)\n",
    "rm(file.name)"
   ]
  },
  {
   "cell_type": "markdown",
   "metadata": {},
   "source": [
    "\n",
    "## Define Parameters\n",
    "\n",
    "Next, let's define our parameters.\n",
    "\n"
   ]
  },
  {
   "cell_type": "code",
   "execution_count": null,
   "metadata": {
    "autoscroll": false,
    "collapsed": true
   },
   "outputs": [],
   "source": [
    "test.start <- 400\n",
    "test.end <- 457\n",
    "search.start <- 1\n",
    "search.end <- 399\n",
    "selected.stations <- 1:10"
   ]
  },
  {
   "cell_type": "markdown",
   "metadata": {},
   "source": [
    "\n",
    "## How to Generate a Configuration File\n",
    "\n",
    "In this section, we will learn how to generate a configuration file. The configuration file defines all the parameters needed to generate your ensemble of analogs and will be passed to the 'generateAnalogs' function. We will walk through the meaning of each of the parameters.\n",
    "\n"
   ]
  },
  {
   "cell_type": "code",
   "execution_count": null,
   "metadata": {
    "autoscroll": false,
    "collapsed": true
   },
   "outputs": [],
   "source": [
    "# For this experiment, we set the configuration mode to\n",
    "# 'Independent Search' which indicates we are searching\n",
    "# for analogs at the same point in space, over a small\n",
    "# time window. This is the original implementation utilized\n",
    "# by DelleMonache et al. (2013).\n",
    "#\n",
    "config <- generateConfiguration('independentSearch')\n",
    "\n",
    "# Define the forecasts, forecast lead times (FLT), and time of the forecast\n",
    "config$forecasts <- forecasts$Data[,selected.stations , , , drop = F]\n",
    "config$forecast_times <- forecasts$Times\n",
    "config$flts <- forecasts$FLTs\n",
    "\n",
    "# Set preserve similarity to TRUE so we can generate some figures that aid analysis\n",
    "config$preserve_similarity <- T\n",
    "\n",
    "# Define our observations and the valid time of those observations\n",
    "config$search_observations <- observations$Data[, selected.stations, , drop = F]\n",
    "config$observation_times <- observations$Times\n",
    "\n",
    "# Define the test and search times\n",
    "config$test_times_compare <- config$forecast_times[test.start:test.end]\n",
    "config$search_times_compare <- config$forecast_times[search.start:search.end]\n",
    "\n",
    "# Number of ensemble members and similarity records we want to keep\n",
    "config$num_members <- 11\n",
    "\n",
    "# How much information you want printed to the screen in the\n",
    "# process of generating analogs. 1 is the least and 5 is the most.\n",
    "# See help for additional specifics.\n",
    "#\n",
    "config$verbose <- 3\n",
    "\n",
    "# Set circular variable if there is any\n",
    "if ('ParameterCirculars' %in% names(forecasts)) {\n",
    "  config$circulars <- unlist(lapply(forecasts$ParameterCirculars, function(x) {\n",
    "    return(which(x == forecasts$ParameterNames))}))\n",
    "}"
   ]
  },
  {
   "cell_type": "markdown",
   "metadata": {},
   "source": [
    "\n",
    "## Generate an Analog Ensemble\n",
    "Next, let's generate our ensemble of analogs!\n",
    "\n"
   ]
  },
  {
   "cell_type": "code",
   "execution_count": null,
   "metadata": {
    "autoscroll": false,
    "collapsed": true
   },
   "outputs": [],
   "source": [
    "AnEn <- generateAnalogs(config)"
   ]
  },
  {
   "cell_type": "markdown",
   "metadata": {},
   "source": [
    "\n",
    "Remember what we said about the parameter `config$verbose`. You control the level of description coming out of the AnEn generation process. Increase the verbose setting to receive more information printed to screen (max verbose value is 5) or decrease the number to see less (minimum verbose value is 1).\n",
    "\n",
    "Congratulations, you have now generated your first ensemble of analogs!\n",
    "\n",
    "## What does the AnEn output data structure look like?\n",
    "\n"
   ]
  },
  {
   "cell_type": "code",
   "execution_count": null,
   "metadata": {
    "autoscroll": false,
    "collapsed": true
   },
   "outputs": [],
   "source": [
    "AnEn"
   ]
  },
  {
   "cell_type": "markdown",
   "metadata": {},
   "source": [
    "\n",
    "The dimensions indicate the number of stations, number of days, forecast lead times, number of ensemble members, and the third variable stores the value of the analog chosen [1], the station index [2] and the time index [3]. More information can be found in the documentation of `RAnEn::generateAnalogs`. This is how you view the values of your analog ensemble members:\n",
    "\n"
   ]
  },
  {
   "cell_type": "code",
   "execution_count": null,
   "metadata": {
    "autoscroll": false,
    "collapsed": true
   },
   "outputs": [],
   "source": [
    "AnEn$analogs[1,1,1,,1]"
   ]
  },
  {
   "cell_type": "markdown",
   "metadata": {},
   "source": [
    "\n",
    "## Visualize Our Results\n",
    "\n",
    "The `RAnEn` package comes with a number of visualization tools. Let's use some of them and discuss the plots they create.\n",
    "\n",
    "### Plot a Sample Day\n",
    "\n",
    "First, let's take a look at a sample prediction from the AnEn using `RAnEn::plotAnalogSample`.\n",
    "\n"
   ]
  },
  {
   "cell_type": "code",
   "execution_count": null,
   "metadata": {
    "autoscroll": false,
    "collapsed": true
   },
   "outputs": [],
   "source": [
    "fcst.id <- which(forecasts$ParameterNames == observations$ParameterNames[config$observation_id])\n",
    "plotAnalogSample(AnEn, config, i.station = 1, i.test.day = 1,\n",
    "                 obs.id = config$observation_id, fcst.id = fcst.id,\n",
    "                 parameter.names = forecasts$ParameterNames,\n",
    "                 flts.fraction = 3600, legend.texts = c(\"Obs\",\"Fcst\"))\n",
    ""
   ]
  },
  {
   "cell_type": "markdown",
   "metadata": {},
   "source": [
    "\n",
    "Let's disuss this figure.\n",
    "\n",
    "### Understanding Analog Selection\n",
    "\n",
    "Recall how the AnEn technique works. Let's take a look at the current deterministic prediction, historical repository of deterministic predictions, corresponding observations, and how the AnEn selection is performed in further depth.\n",
    "\n"
   ]
  },
  {
   "cell_type": "code",
   "execution_count": null,
   "metadata": {
    "autoscroll": false,
    "collapsed": true
   },
   "outputs": [],
   "source": [
    "plotAnalogSelection(AnEn, config, i.station = 1, i.test.day = 4, i.flt = 1,\n",
    "                    parameter.names = forecasts$ParameterNames)"
   ]
  },
  {
   "cell_type": "markdown",
   "metadata": {},
   "source": [
    "\n",
    "Now that we have seen analog selection, what factors could influence this?\n",
    "\n",
    "## Optimal Predictor Weighting\n",
    "\n",
    "Next, let's explore optimal predictor weighting. The `RAnEn` package has a simple way to define the weights that the user would like to implement within the configuration file. Let's add one more parameter to our configuration file that will influence the weight placed on the predictors.\n",
    "\n"
   ]
  },
  {
   "cell_type": "code",
   "execution_count": null,
   "metadata": {
    "autoscroll": false,
    "collapsed": true
   },
   "outputs": [],
   "source": [
    "\n",
    "weights <- c(0.7, 0.1, 0.1, 0.1)\n",
    "\n",
    "# To reset to equal weights\n",
    "# weights <- rep(1, dim(config$forecasts)[1])\n",
    "\n",
    "config$weights <- weights"
   ]
  },
  {
   "cell_type": "markdown",
   "metadata": {},
   "source": [
    "\n",
    "Generate new analogs using our weights:\n",
    "\n"
   ]
  },
  {
   "cell_type": "code",
   "execution_count": null,
   "metadata": {
    "autoscroll": false,
    "collapsed": true
   },
   "outputs": [],
   "source": [
    "AnEn.weights <- generateAnalogs(config)"
   ]
  },
  {
   "cell_type": "markdown",
   "metadata": {},
   "source": [
    "\n",
    "### How have the predictions and analog selection changed?\n",
    "\n"
   ]
  },
  {
   "cell_type": "code",
   "execution_count": null,
   "metadata": {
    "autoscroll": false,
    "collapsed": true
   },
   "outputs": [],
   "source": [
    "plotAnalogSample(AnEn.weights, config, i.station = 1, i.test.day = 4,\n",
    "                 obs.id = config$observation_id, fcst.id = fcst.id,\n",
    "                 forecasts$ParameterNames, flts.fraction = 3600,\n",
    "                 legend.texts = c(\"Obs\",\"Fcst\"))"
   ]
  },
  {
   "cell_type": "code",
   "execution_count": null,
   "metadata": {
    "autoscroll": false,
    "collapsed": true
   },
   "outputs": [],
   "source": [
    "plotAnalogSelection(AnEn.weights, config, i.station = 1, i.test.day = 4,\n",
    "                    i.flt = 1, forecasts$ParameterNames)"
   ]
  },
  {
   "cell_type": "markdown",
   "metadata": {},
   "source": [
    "\n",
    "Your turn! Repeat this section of code on weighting on your own with different weights of your choosing. What do you observe?\n",
    "\n",
    "## Operational Search\n",
    "\n",
    "Next, we'll walk through a new feature called 'operational search.'\n",
    "\n",
    "Up until this point, we have been defining the historical repository, the search space (also called the training dataset by some but note that this language can become confusing to individuals also using machine learning or artificial intelligence techniques) as a set length of time. For example, with our CONUS METAR dataset, we have been using one year of data for searching and three months for testing. Now, using the operational search functionality, we will sequentially add days to the historical search repository. This is more akin to the real world scenario because, in the real world, we **do** have information from yesterday to include and give us insight.\n",
    "\n",
    "### Generate analogs using the operational search functionality\n",
    "\n"
   ]
  },
  {
   "cell_type": "code",
   "execution_count": null,
   "metadata": {
    "autoscroll": false,
    "collapsed": true
   },
   "outputs": [],
   "source": [
    "config$operational <- TRUE\n",
    "AnEn.opr <- generateAnalogs(config)"
   ]
  },
  {
   "cell_type": "markdown",
   "metadata": {},
   "source": [
    "\n",
    "This concludes our exercise covering the `RAnEn` fundamentals including:\n",
    "\n",
    "- Generating your first ensemble of analogs using the AnEn technique\n",
    "- Generating the AnEn with the predictor parameters weighted\n",
    "- Generating the AnEn using the Operational Search functionality\n",
    "\n",
    "\n",
    "## Going Further\n",
    "\n",
    "Take an opportunity to explore the behavior of the AnEn technique using this sample dataset. Explore the following questions:\n",
    "\n",
    "- What do you notice when you increase/decrease the number of ensemble members?\n",
    "- Vary the size of the historical search repository (also often referred to as the training). What do you observe?\n",
    "- What happens when you change the predictor weights?\n",
    "- What happens when you utilzie the operational case option?\n"
   ]
  }
 ],
 "metadata": {
  "Rmd_header": {
   "author": "Laura Clemente-Harding and Weiming Hu",
   "date": "4/5/2019",
   "output": "html_document",
   "title": "Demo 4: 2019 SEA Conference Hands-On Workshop"
  },
  "kernelspec": {
   "display_name": "R",
   "language": "R",
   "name": "ir"
  },
  "language_info": {
   "codemirror_mode": "r",
   "file_extension": ".r",
   "mimetype": "text/x-r-source",
   "name": "R",
   "pygments_lexer": "r"
  }
 },
 "nbformat": 4,
 "nbformat_minor": 0
}
