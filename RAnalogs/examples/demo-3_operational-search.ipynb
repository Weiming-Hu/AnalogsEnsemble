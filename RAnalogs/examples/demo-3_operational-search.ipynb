{
 "cells": [
  {
   "cell_type": "code",
   "execution_count": null,
   "metadata": {
    "Rmd_chunk_options": "setup, include=FALSE",
    "autoscroll": false,
    "collapsed": true
   },
   "outputs": [],
   "source": [
    "library(RAnEn)\n",
    "library(maps)\n",
    "\n",
    "stopifnot(packageVersion('RAnEn')>=\"3.2.5\")"
   ]
  },
  {
   "cell_type": "markdown",
   "metadata": {},
   "source": [
    "\n",
    "## Introduction\n",
    "\n",
    "The prediction accuracy of Analog Ensemble depends on the quality of analogs. Presumably, better analogs will generate better predictions. In real-time model operation, when historical forecasts increasing and the test forecast moving forward in time, it is most likely that the historical forecasts in the near past are the most similar ones. Therefore, in an operational prediction mode, it is desired to increment the search forecasts when test forecasts are moving towards the future.\n",
    "\n",
    "This article shows an example of how to use `RAnEn` with an operational search. It is strongly suggested to go over the [demo 1](https://weiming-hu.github.io/AnalogsEnsemble/2018/11/04/demo-1-RAnEn-basics.html) prior to this tutorial.\n",
    "\n",
    "\n",
    "## Data Description\n",
    "\n",
    "Same data are used from the [demo 1](https://weiming-hu.github.io/AnalogsEnsemble/2018/11/04/demo-1-RAnEn-basics.html).\n",
    "\n"
   ]
  },
  {
   "cell_type": "code",
   "execution_count": null,
   "metadata": {
    "autoscroll": false,
    "collapsed": true
   },
   "outputs": [],
   "source": [
    "file.name <- 'data-NAM-StateCollege.RData'\n",
    "# file.name <- 'data-NAM-Denver.RData'\n",
    "\n",
    "if (!file.exists(file.name)) {\n",
    "  cat('Downloading from the data server which might be slow ...\\n')\n",
    "  download.file(url = paste('https://prosecco.geog.psu.edu/', file.name, sep = ''),\n",
    "                destfile = file.name)\n",
    "}\n",
    "\n",
    "load(file.name)\n",
    "rm(file.name)\n",
    "\n",
    "print(ls())"
   ]
  },
  {
   "cell_type": "markdown",
   "metadata": {},
   "source": [
    "\n",
    "## Generate Temperature Forecasts\n",
    "\n",
    "When generating forecasts with an operational search, we need to pay attention to two sets of configuration parameters:\n",
    "\n",
    "- `test_times` and `search_times`: These two parameters are the complete and the largest sets of test/search times that will be possibly generated and used. And these two parameters should be consistent with the number of times in test/search forecasts.\n",
    "- `test_times_compare` and `search_times_compare`: These two parameters are the actual test/search times that will be compared and simialrity will be generated for each combination of `test_times_compare` and `search_search_compare`.\n",
    "\n",
    "If you don't understand any of the options or you want to check out the full list of options available, please check the\n",
    "document for [RAnEn::generateConfiguration](https://weiming-hu.github.io/AnalogsEnsemble/R/reference/generateConfiguration.html).\n",
    "\n"
   ]
  },
  {
   "cell_type": "code",
   "execution_count": null,
   "metadata": {
    "autoscroll": false,
    "collapsed": true
   },
   "outputs": [],
   "source": [
    "# We use independent search configuration.\n",
    "config <- generateConfiguration('independentSearch')\n",
    "\n",
    "# Set up options\n",
    "test.start <- 366\n",
    "test.end <- 372\n",
    "search.start <- 1\n",
    "\n",
    "# Note that our search time covers the test times.\n",
    "# The operational mode will automatically determine\n",
    "# search times for each test time\n",
    "search.end <- test.end\n",
    "\n",
    "config$forecasts <- forecasts$Data\n",
    "config$forecast_times <- forecasts$Times\n",
    "config$flts <- forecasts$FLTs\n",
    "\n",
    "config$search_observations <- observations$Data\n",
    "config$observation_times <- observations$Times\n",
    "\n",
    "config$num_members <- 19\n",
    "\n",
    "# In this tutorial, I'm going to allow any number of NAN records\n",
    "# during similairty calculation.\n",
    "config$max_flt_nan <- -1\n",
    "config$max_par_nan <- -1\n",
    "\n",
    "# Keep the similairty values\n",
    "config$preserve_similarity <- T\n",
    "\n",
    "# A negative similarity count means all of the similairty records\n",
    "config$max_num_sims <- -1\n",
    "\n",
    "# Set circular variable if there is any\n",
    "if ('ParameterCirculars' %in% names(forecasts)) {\n",
    "  config$circulars <- unlist(lapply(forecasts$ParameterCirculars, function(x) {\n",
    "    return(which(x == forecasts$ParameterNames))}))\n",
    "}\n",
    "\n",
    "# Set up test and search times\n",
    "config$test_times_compare <- forecasts$Times[test.start:test.end]\n",
    "config$search_times_compare <- forecasts$Times[search.start:search.end]\n",
    "\n",
    "# Don't forget to trigger the operational search\n",
    "config$operational <- T"
   ]
  },
  {
   "cell_type": "markdown",
   "metadata": {},
   "source": [
    "\n",
    "We then generate analogs. This can take a while. On my Mac Air, it takes about 4 minutes.\n",
    "\n"
   ]
  },
  {
   "cell_type": "code",
   "execution_count": null,
   "metadata": {
    "autoscroll": false,
    "collapsed": true
   },
   "outputs": [],
   "source": [
    "AnEn.opr <- generateAnalogs(config)"
   ]
  },
  {
   "cell_type": "markdown",
   "metadata": {},
   "source": [
    "\n",
    "## Check Search Space for Operational Mode\n",
    "\n",
    "If we take a close look at the analog members of operational search. The search times of the operational search for test times are different, actually increasing. This is indeed the results from the operational search.\n",
    "\n"
   ]
  },
  {
   "cell_type": "code",
   "execution_count": null,
   "metadata": {
    "autoscroll": false,
    "collapsed": true
   },
   "outputs": [],
   "source": [
    "test.times <- as.POSIXct(config$test_times_compare, origin = '1970-01-01', tz = 'UTC')\n",
    "fcst.times <- as.POSIXct(forecasts$Times, origin = '1970-01-01', tz = 'UTC')\n",
    "\n",
    "i.test.day <- 1\n",
    "cat('The search time range for', format(test.times[i.test.day], format = '%Y/%m/%d'), ':',\n",
    "    format(range(fcst.times[AnEn.opr$similarity[1, i.test.day, 1, , 3]], na.rm = T), format = '%Y/%m/%d'),\n",
    "    ' Total count:', length(which(!is.na(AnEn.opr$similarity[1, i.test.day, 1, , 3]))), '\\n')\n",
    "\n",
    "i.test.day <- 2\n",
    "cat('The search time range for', format(test.times[i.test.day], format = '%Y/%m/%d'), ':',\n",
    "    format(range(fcst.times[AnEn.opr$similarity[1, i.test.day, 1, , 3]], na.rm = T), format = '%Y/%m/%d'),\n",
    "    ' Total count:', length(which(!is.na(AnEn.opr$similarity[1, i.test.day, 1, , 3]))), '\\n')"
   ]
  }
 ],
 "metadata": {
  "Rmd_header": {
   "author": "Weiming Hu",
   "date": "February 12, 2019",
   "output": "html_document",
   "title": "Demo 3: Analog Ensemble with Operational Search"
  },
  "kernelspec": {
   "display_name": "R",
   "language": "R",
   "name": "ir"
  },
  "language_info": {
   "codemirror_mode": "r",
   "file_extension": ".r",
   "mimetype": "text/x-r-source",
   "name": "R",
   "pygments_lexer": "r"
  }
 },
 "nbformat": 4,
 "nbformat_minor": 0
}
