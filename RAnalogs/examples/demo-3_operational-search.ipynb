{
 "cells": [
  {
   "cell_type": "code",
   "execution_count": null,
   "metadata": {
    "Rmd_chunk_options": "setup, include=FALSE",
    "autoscroll": false,
    "collapsed": true
   },
   "outputs": [],
   "source": [
    "library(RAnEn)\n",
    "library(maps)\n",
    "library(raster)\n",
    "library(RColorBrewer)"
   ]
  },
  {
   "cell_type": "markdown",
   "metadata": {},
   "source": [
    "\n",
    "## Introduction\n",
    "\n",
    "The prediction accuracy of Analog Ensemble depends on the quality of analogs. Presumably, better analogs will generate better predictions. In real-time model operation, when historical forecasts increasing and the test forecast moving forward in time, it is most likely that the historical forecasts in the near past are the most similar ones. Therefore, in an operational prediction mode, it is desired to increment the search forecasts when test forecasts are moving towards the future.\n",
    "\n",
    "This article shows an example of how to use `RAnEn` with an operational search. It is strongly suggested to go over the [demo 1](https://weiming-hu.github.io/AnalogsEnsemble/2018/11/04/demo-1-RAnEn-basics.html) prior to this tutorial.\n",
    "\n",
    "\n",
    "## Data Description\n",
    "\n",
    "Same data are used from the [demo 1](https://weiming-hu.github.io/AnalogsEnsemble/2018/11/04/demo-1-RAnEn-basics.html).\n",
    "\n"
   ]
  },
  {
   "cell_type": "code",
   "execution_count": null,
   "metadata": {
    "autoscroll": false,
    "collapsed": true
   },
   "outputs": [],
   "source": [
    "load('analysis.RData')\n",
    "load('forecasts.RData')\n",
    "\n",
    "# Only use one parameter, the surface temperature\n",
    "forecasts <- forecasts[1, , , , drop = F]\n",
    "\n",
    "print(ls())"
   ]
  },
  {
   "cell_type": "markdown",
   "metadata": {},
   "source": [
    "\n",
    "## Generate Temperature Forecasts\n",
    "\n",
    "When generating forecasts with an operational search, we need to pay attention to two sets of configuration parameters:\n",
    "\n",
    "- `test_times` and `search_times`: These two parameters are the complete and the largest sets of test/search times that will be possibly generated and used. And these two parameters should be consistent with the number of times in test/search forecasts.\n",
    "- `test_times_compare` and `search_times_compare`: These two parameters are the actual test/search times that will be compared and simialrity will be generated for each combination of `test_times_compare` and `search_search_compare`. **However, if the operational search is desired, `search_search_compare` becomes meaningless because each test time will have a different set of search times, and search times will be regenerated for each test times. The generated search times will be a subset of or equal to `search_times`**.\n",
    "\n",
    "If you don't understand any of the options, please see the [document](https://weiming-hu.github.io/AnalogsEnsemble/R/reference/generateConfiguration.html).\n",
    "\n"
   ]
  },
  {
   "cell_type": "code",
   "execution_count": null,
   "metadata": {
    "Rmd_chunk_options": "echo=FALSE",
    "autoscroll": false,
    "collapsed": true
   },
   "outputs": [],
   "source": [
    "# We use independent search configuration.\n",
    "config <- generateConfiguration('independentSearch')\n",
    "\n",
    "# Set up options\n",
    "test.start <- 427\n",
    "test.end <- 431\n",
    "\n",
    "# Please note that same forecasts and forecast.times\n",
    "# are passed to test_forecasts and search_forecasts\n",
    "# because, with operational search, search forecasts\n",
    "# and test forecasts are overlapping. The simple\n",
    "# solution is to pass the same to both, and let the\n",
    "# program to figure out the search times for each test time.\n",
    "#\n",
    "config$forecasts <- forecasts\n",
    "config$forecast_times <- forecast.times\n",
    "config$flts <- flts\n",
    "\n",
    "config$search_observations <- analysis\n",
    "config$observation_times <- analysis.times\n",
    "\n",
    "config$weights <- rep(1, dim(forecasts)[1])\n",
    "config$num_members <- 19\n",
    "config$preserve_similarity <- T\n",
    "config$quick <- F\n",
    "config$verbose <- 3\n",
    "\n",
    "# Set up test times to be compared\n",
    "config$test_times_compare <- forecast.times[test.start:test.end]\n",
    "\n",
    "# No need to set up search times and let the program figure this out\n",
    "# config$search_times_compare <- vector('numeric', 0)\n",
    "\n",
    "# Don't forget to trigger the operational search\n",
    "config$operational <- T"
   ]
  },
  {
   "cell_type": "markdown",
   "metadata": {},
   "source": [
    "\n",
    "We then generate analogs.\n",
    "\n"
   ]
  },
  {
   "cell_type": "code",
   "execution_count": null,
   "metadata": {
    "autoscroll": false,
    "collapsed": true
   },
   "outputs": [],
   "source": [
    "AnEn.opr <- generateAnalogs(config)\n",
    "AnEn.opr <- biasCorrection(AnEn.opr, config, forecast.ID = 1, group.func = mean,\n",
    "                           na.rm = T, show.progress = F)"
   ]
  },
  {
   "cell_type": "markdown",
   "metadata": {},
   "source": [
    "\n",
    "We generate another AnEn without operational search.\n",
    "\n"
   ]
  },
  {
   "cell_type": "code",
   "execution_count": null,
   "metadata": {
    "autoscroll": false,
    "collapsed": true
   },
   "outputs": [],
   "source": [
    "search.start <- 1\n",
    "\n",
    "# Remove the day to avoid overlapping between search and test forecasts\n",
    "search.end <- test.start - 2\n",
    "\n",
    "config$operational <- F\n",
    "config$search_times_compare <- forecast.times[search.start:search.end]\n",
    "AnEn.ind <- generateAnalogs(config)\n",
    "AnEn.ind <- biasCorrection(AnEn.ind, config, forecast.ID = 1, group.func = mean,\n",
    "                           na.rm = T, show.progress = F)"
   ]
  },
  {
   "cell_type": "markdown",
   "metadata": {},
   "source": [
    "\n",
    "## Visualization\n",
    "\n",
    "We then compare the prediction accuracy on the last day in our test times.\n",
    "\n"
   ]
  },
  {
   "cell_type": "code",
   "execution_count": null,
   "metadata": {
    "autoscroll": false,
    "collapsed": true
   },
   "outputs": [],
   "source": [
    "# Choose a FLT to plot\n",
    "i.flt <- 31\n",
    "\n",
    "# Choose the last test time\n",
    "i.day <- 5\n",
    "\n",
    "# Calculate ensemble means\n",
    "mean.analogs.opr.cor <- apply(AnEn.opr$analogs.cor[, , , , 1, drop = F], c(1, 2, 3), mean, na.rm = T)\n",
    "mean.analogs.ind.cor <- apply(AnEn.ind$analogs.cor[, , , , 1, drop = F], c(1, 2, 3), mean, na.rm = T)\n",
    "\n",
    "# Create an empty raster for the geographical region\n",
    "xy <- cbind(as.numeric(forecast.xs) - 360, as.numeric(forecast.ys))\n",
    "colnames(xy) = c('x', 'y')\n",
    "ext <- extent(xy[, c('x', 'y')])\n",
    "rast <- raster(ext, nrow = 11, ncol = 11, crs = CRS(\"+proj=longlat +datum=WGS84\"))\n",
    "\n",
    "# Rasterize the data values\n",
    "rast.anen.opr.cor <- rasterize(xy[, c('x', 'y')], rast, mean.analogs.opr.cor[, i.day, i.flt], fun = mean)\n",
    "rast.anen.ind.cor <- rasterize(xy[, c('x', 'y')], rast, mean.analogs.ind.cor[, i.day, i.flt], fun = mean)\n",
    "rast.fcts <- rasterize(xy[, c('x', 'y')], rast, forecasts[1, , test.start, i.flt], fun = mean)\n",
    "rast.anly <- rasterize(xy[, c('x', 'y')], rast, analysis[\n",
    "  1, , which(analysis.times == forecast.times[test.start] + flts[i.flt])], fun = mean)\n",
    "\n",
    "# Calculate RMSE\n",
    "rmse.fcts <- sqrt(mean((values(rast.fcts - rast.anly))^2, na.rm = T))\n",
    "rmse.anen.opr.cor <- sqrt(mean((values(rast.anen.opr.cor - rast.anly))^2, na.rm = T))\n",
    "rmse.anen.ind.cor <- sqrt(mean((values(rast.anen.ind.cor - rast.anly))^2, na.rm = T))\n",
    "\n",
    "# Create a color scale with 100 colors\n",
    "cols <- colorRampPalette(brewer.pal(11, 'Spectral')[11:1])(100)\n",
    "\n",
    "# Define value limit\n",
    "zlim <- range(c(values(rast.fcts), values(rast.anen.opr.cor),\n",
    "                values(rast.anly), values(rast.anen.ind.cor)),\n",
    "              na.rm = T)\n",
    "# Visualization\n",
    "par(mfrow = c(2, 2), mar = c(4, 1, 3, 3))\n",
    "plot(rast.anly, main = 'NAM Analysis', col = cols, zlim = zlim, legend = F)\n",
    "map(col = 'grey', add = T); map('state', add = T)\n",
    "plot(rast.fcts, main = 'NAM Forecasts', col = cols, zlim = zlim,\n",
    "     xlab = paste('RMSE =', round(rmse.fcts, 4)))\n",
    "map(col = 'grey', add = T); map('state', add = T)\n",
    "plot(rast.anen.ind.cor, main = 'AnEn Independent Search', col = cols, zlim = zlim,\n",
    "     legend = F, xlab = paste('RMSE =', round(rmse.anen.ind.cor, 4)))\n",
    "map(col = 'grey', add = T); map('state', add = T)\n",
    "plot(rast.anen.opr.cor, main = 'AnEn Operational Search', col = cols,\n",
    "     zlim = zlim, xlab = paste('RMSE =', round(rmse.anen.opr.cor, 4)))\n",
    "map(col = 'grey', add = T); map('state', add = T)"
   ]
  },
  {
   "cell_type": "markdown",
   "metadata": {},
   "source": [
    "\n",
    "If we take a closer look at the analog members of inependent search and operational search. The search times of independent search and the operational search for a specific test time are different. This is indeed the results from the operational search.\n",
    "\n"
   ]
  },
  {
   "cell_type": "code",
   "execution_count": null,
   "metadata": {
    "autoscroll": false,
    "collapsed": true
   },
   "outputs": [],
   "source": [
    "cat('The closest analog member time to the test time', as.character(forecast.times[test.start + i.day - 1] + flts[i.flt]), ':\\n')\n",
    "cat('(independent search) ', as.character(analysis.times[range(AnEn.ind$analogs[, i.day, i.flt, , 3], na.rm = T)[2]]), '\\n')\n",
    "cat('(operational search) ', as.character(analysis.times[range(AnEn.opr$analogs[, i.day, i.flt, , 3], na.rm = T)[2]]), '\\n')"
   ]
  }
 ],
 "metadata": {
  "Rmd_header": {
   "author": "Weiming Hu",
   "date": "February 12, 2019",
   "output": "html_document",
   "title": "Demo 3: Analog Ensemble with Operational Search"
  },
  "kernelspec": {
   "display_name": "R",
   "language": "R",
   "name": "ir"
  },
  "language_info": {
   "codemirror_mode": "r",
   "file_extension": ".r",
   "mimetype": "text/x-r-source",
   "name": "R",
   "pygments_lexer": "r"
  }
 },
 "nbformat": 4,
 "nbformat_minor": 0
}
