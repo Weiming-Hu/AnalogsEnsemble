{
 "cells": [
  {
   "cell_type": "code",
   "execution_count": null,
   "metadata": {
    "Rmd_chunk_options": "setup, include=F",
    "autoscroll": false,
    "collapsed": true
   },
   "outputs": [],
   "source": [
    "library(RAnEn)\n",
    "library(maps)\n",
    "\n",
    "stopifnot(packageVersion('RAnEn')>=\"3.2.5\")"
   ]
  },
  {
   "cell_type": "markdown",
   "metadata": {},
   "source": [
    "\n",
    "## Introduction\n",
    "\n",
    "This article demonstrates how to use the search space functionality within the `RAnEn` package. If you haven't done so, please read [the instructions for basic usage of `RAnEn`](https://weiming-hu.github.io/AnalogsEnsemble/2018/11/04/demo-1-RAnEn-basics.html) first. This article skips the part that has been covered in the previous article.\n",
    "\n",
    "The classic `AnEn` technique searches for the most similar historical foreasts at its current location. Therefore, only forecasts from the current station/grid point will be traversed and compared. This search style is referred to as the *Independent Search (IS)*. Another possible search style is extended search, which is referred to as *Search Space Extension (SSE)*. It simply indicates that forecasts at nearby stations/grid points are included in the search process. As a result, the search space is significantly larger when using the search space extension.\n",
    "\n",
    "There are currently two ways to define what nearby locations to be included into the search. Users can set the nearest number of neighbors to be included and/or a distance threshold. The two restraints can be used together.\n",
    "\n",
    "You will learn how to use these functions:\n",
    "\n",
    "- `generateAnalogs`\n",
    "\n",
    "## Data Description\n",
    "\n",
    "We reuse the data from the [demo 1 AnEn Basics](https://weiming-hu.github.io/AnalogsEnsemble/2018/11/04/demo-1-RAnEn-basics.html). Please refer to the article for a more detailed data description.\n",
    "\n"
   ]
  },
  {
   "cell_type": "code",
   "execution_count": null,
   "metadata": {
    "autoscroll": false,
    "collapsed": true
   },
   "outputs": [],
   "source": [
    "file.name <- 'data-NAM-StateCollege.RData'\n",
    "# file.name <- 'data-NAM-Denver.RData'\n",
    "# file.name <- 'data-METAR-CONUS.Rdata'\n",
    "\n",
    "if (!file.exists(file.name)) {\n",
    "  cat('Downloading from the data server which might be slow ...\\n')\n",
    "  download.file(url = paste('https://prosecco.geog.psu.edu/', file.name, sep = ''),\n",
    "                destfile = file.name)\n",
    "}\n",
    "\n",
    "load(file.name)\n",
    "rm(file.name)"
   ]
  },
  {
   "cell_type": "markdown",
   "metadata": {},
   "source": [
    "\n",
    "## Generate Temperature Forecasts\n",
    "\n",
    "The process to generate AnEn IS and AnEn SSE forecasts are similar. First, we create a configuration and the following settings are migrated from the independent search tutorial. **Please note the difference when we specify the type of configuration**.\n",
    "\n",
    "For a full list of avaiable options, please check the document for [RAnEn::generateConfiguration](https://weiming-hu.github.io/AnalogsEnsemble/R/reference/generateConfiguration.html).\n",
    "\n"
   ]
  },
  {
   "cell_type": "code",
   "execution_count": null,
   "metadata": {
    "autoscroll": false,
    "collapsed": true
   },
   "outputs": [],
   "source": [
    "# Create a configuration for SSE\n",
    "config <- generateConfiguration('extendedSearch')\n",
    "\n",
    "# This following part is migrated from the independent search as the\n",
    "# parameter settings are the same.\n",
    "#\n",
    "\n",
    "# Set up options\n",
    "test.start <- 366\n",
    "test.end <- 372\n",
    "search.start <- 1\n",
    "search.end <- 365\n",
    "\n",
    "# Set up forecasts and time, FLT information\n",
    "config$forecasts <- forecasts$Data\n",
    "config$forecast_times <- forecasts$Times\n",
    "config$flts <- forecasts$FLTs\n",
    "\n",
    "# Set up observations and time information\n",
    "config$search_observations <- observations$Data\n",
    "config$observation_times <- observations$Times\n",
    "\n",
    "# Set up other parameters\n",
    "config$num_members <- sqrt(search.end - search.start + 1)\n",
    "config$verbose <- 3\n",
    "\n",
    "# Set up predictand id and predictor weights\n",
    "config$observation_id <- 8\n",
    "config$weights <- c(1, 1, 0, 0, 0, 0, 0, 1, 0, 0, 0, 0, 0, 0, 0, 1, 1)\n",
    "\n",
    "# Set up test times\n",
    "config$test_times_compare <- forecasts$Times[test.start:test.end]\n",
    "\n",
    "# Set up search times\n",
    "config$search_times_compare <- forecasts$Times[search.start:search.end]\n",
    "\n",
    "# Set circular variable if there is any\n",
    "if ('ParameterCirculars' %in% names(forecasts)) {\n",
    "  config$circulars <- unlist(lapply(forecasts$ParameterCirculars, function(x) {\n",
    "    return(which(x == forecasts$ParameterNames))}))\n",
    "}"
   ]
  },
  {
   "cell_type": "markdown",
   "metadata": {},
   "source": [
    "\n",
    "Now that we have set up the basic parameters, we need to set the parameters for SSE. A list of parameters specific to SSE is shown below:\n",
    "\n",
    "- forecast_stations_x\n",
    "- forecast_stations_y\n",
    "- num_nearest\n",
    "- distance\n",
    "- max_num_search_stations\n",
    "- preserve_search_stations\n",
    "\n",
    "`forecast_stations_x` and `forecsat_stations_y` specify the locations of stations/grid points. It is assumed that coordinates use a Cartesian grid. No projection is performed within the package so any geographic projection should be done prior to the AnEn computation.\n",
    "\n",
    "`num_nearest` is the number of neighbors that should be included into SSE. If `distance` is set, a buffer will be created for each station/grid point, and nearby stations/grid points strictly inside this buffer are utilized.\n",
    "\n",
    "If `distance` is the only constraint of including nearby stations, to avoid including too many stations within the specified distance, a maximum number of nearby stations should be set using `max_num_search_stations`.\n",
    "\n",
    "`preserve_search_stations` indicates whether to save the search stations in the returned result. The information can be helpful to analyze what stations are used to generate the AnEn results.\n",
    "\n",
    "Now that we understand the parameters, we set these parameters.\n",
    "\n"
   ]
  },
  {
   "cell_type": "code",
   "execution_count": null,
   "metadata": {
    "autoscroll": false,
    "collapsed": true
   },
   "outputs": [],
   "source": [
    "# Set up coordinates for forecast stations.\n",
    "# Change the range of x to [-180, 180] for visualization purpose,\n",
    "#\n",
    "config$forecast_stations_x <- forecasts$Xs - 360\n",
    "config$forecast_stations_y <- forecasts$Ys\n",
    "\n",
    "# Set the number of nearest neighbors to utilize.\n",
    "# We want to have 9 search stations including the current staion itself.\n",
    "#\n",
    "config$num_nearest <- 9\n",
    "\n",
    "# Let the package return the search stations for each test station\n",
    "config$preserve_search_stations <- T"
   ]
  },
  {
   "cell_type": "markdown",
   "metadata": {},
   "source": [
    "\n",
    "Similar to the [RAnEn basic tutorial](https://weiming-hu.github.io/AnalogsEnsemble/2018/11/04/demo-1-RAnEn-basics.html) we can generate AnEn. This might take a while. On a Mac Air, it takes about 3 minutes.\n",
    "\n"
   ]
  },
  {
   "cell_type": "code",
   "execution_count": null,
   "metadata": {
    "autoscroll": false,
    "collapsed": true
   },
   "outputs": [],
   "source": [
    "AnEn <- generateAnalogs(config)"
   ]
  },
  {
   "cell_type": "markdown",
   "metadata": {},
   "source": [
    "\n",
    "By now we have our AnEn forecasts. Note that we have the search stations stored in the returned result.\n",
    "\n"
   ]
  },
  {
   "cell_type": "code",
   "execution_count": null,
   "metadata": {
    "autoscroll": false,
    "collapsed": true
   },
   "outputs": [],
   "source": [
    "AnEn"
   ]
  },
  {
   "cell_type": "markdown",
   "metadata": {},
   "source": [
    "\n",
    "Here we print an AnEn at a specific grid point (#10), a specific day (#1), and a specific forecast lead time (#7). Take a look at the rows (members). The second and the third columns show the station and time index in observations where the forecast values are taken from. More information can be found in the documentation for `RAnEn::generateAnalogs`.\n",
    "\n"
   ]
  },
  {
   "cell_type": "code",
   "execution_count": null,
   "metadata": {
    "autoscroll": false,
    "collapsed": true
   },
   "outputs": [],
   "source": [
    "AnEn$analogs[10, 1, 7, , ]"
   ]
  },
  {
   "cell_type": "markdown",
   "metadata": {},
   "source": [
    "\n",
    "## Verification\n",
    "\n",
    "Finally, let's extract the AnEn forecast values and the corresponding observations.\n",
    "\n"
   ]
  },
  {
   "cell_type": "code",
   "execution_count": null,
   "metadata": {
    "autoscroll": false,
    "collapsed": true
   },
   "outputs": [],
   "source": [
    "# Collect analog ensemble values\n",
    "anen <- AnEn$analogs[, , , , 1]\n",
    "\n",
    "# Collect observations for the test period and the forecasted weather variable\n",
    "obs <- alignObservations(observations$Data, observations$Times,\n",
    "                         config$test_times_compare, config$flts,\n",
    "                         silent = T, show.progress = F)\n",
    "obs <- obs[config$observation_id, , , ]"
   ]
  },
  {
   "cell_type": "markdown",
   "metadata": {},
   "source": [
    "\n",
    "Then we can generate the same verification statistics, and see how AnEn is performing. You can also compare this with results from [the AnEn basic tutorial](https://weiming-hu.github.io/AnalogsEnsemble/2018/11/04/demo-1-RAnEn-basics.html), and see how they are different.\n",
    "\n"
   ]
  },
  {
   "cell_type": "code",
   "execution_count": null,
   "metadata": {
    "autoscroll": false,
    "collapsed": true
   },
   "outputs": [],
   "source": [
    "# Generate verification metrics\n",
    "ret.MAE <- verifyMAE(anen, obs)\n",
    "ret.RMSE <- verifyRMSE(anen, obs)\n",
    "ret.Bias <- verifyBias(anen, obs)\n",
    "ret.RH <- verifyRankHist(anen, obs)\n",
    "\n",
    "# Let's make some figures\n",
    "par(mfrow = c(4, 1), mar = c(3, 4.5, 1, 1))\n",
    "plot(config$flts/3600, ret.MAE$flt, type = 'b', pch = 1, cex = 0.5,\n",
    "     xlab = '', ylab = 'MAE')\n",
    "plot(config$flts/3600, ret.RMSE$flt, type = 'b', pch = 1, cex = 0.5,\n",
    "     xlab = '', ylab = 'RMSE')\n",
    "plot(config$flts/3600, ret.Bias$flt, type = 'b', pch = 1, cex = 0.5,\n",
    "     xlab = 'Lead Times (h)', ylab = 'Bias')\n",
    "barplot(ret.RH$rank, ylab = 'Rank Frequency')"
   ]
  },
  {
   "cell_type": "markdown",
   "metadata": {},
   "source": [
    "\n",
    "The following code generates a map showing the search stations of a particular test station. Search stations that contain the most similar forecasts are marked differently from the other search stations.\n",
    "\n"
   ]
  },
  {
   "cell_type": "code",
   "execution_count": null,
   "metadata": {
    "autoscroll": false,
    "collapsed": true
   },
   "outputs": [],
   "source": [
    "# Select a test location of which the search locations will be shown.\n",
    "test.station.index <- 1\n",
    "day.index <- 1\n",
    "flt.index <- 7\n",
    "\n",
    "# Parameters for plot\n",
    "cex <- 1\n",
    "offset <- 10\n",
    "label.size <- .8\n",
    "title <- 'Search Space Extension'\n",
    "\n",
    "# Get the selected stations from ensemble members\n",
    "selected.stations <- unique(\n",
    "  AnEn$analogs[test.station.index, day.index, flt.index, , 2])\n",
    "\n",
    "# plot different types of stations together\n",
    "par(mfrow = c(1, 1))\n",
    "\n",
    "# Plot all forecast stations\n",
    "plot(config$forecast_stations_x, config$forecast_stations_y, xlab = 'x', ylab = 'y',\n",
    "     main = title, pch = 19, cex = cex/2, col = 'grey', asp=1)\n",
    "\n",
    "# Plot a base map\n",
    "map('county', col = 'grey', add = T)\n",
    "\n",
    "# Plot search stations for the current test station\n",
    "points(config$forecast_stations_x[AnEn$searchStations[, test.station.index]],\n",
    "       config$forecast_stations_y[AnEn$searchStations[, test.station.index]],\n",
    "       pch = 19, cex = cex, col = 'green')\n",
    "\n",
    "# Plot the test station\n",
    "points(config$forecast_stations_x[test.station.index],\n",
    "       config$forecast_stations_y[test.station.index],\n",
    "       pch = 8, cex = cex, col = 'red')\n",
    "\n",
    "# Plot the search stations that have contribution to the analog ensemble\n",
    "points(config$forecast_stations_x[selected.stations],\n",
    "       config$forecast_stations_y[selected.stations],\n",
    "       cex = cex*1.6, col = 'red')\n",
    "\n",
    "if (config$distance > 0) {\n",
    "  coords <- generateCircleCoords(\n",
    "    x = config$forecast_stations_x[test.station.index],\n",
    "    y = config$forecast_stations_y[test.station.index],\n",
    "    radius = config$distance, np = 100)\n",
    "\n",
    "  points(coords, cex = .1, pch = 19)\n",
    "}\n",
    "\n",
    "legend('top', legend = c('grid point', 'search', 'test', 'selected'),\n",
    "       pch = c(19, 19, 8 , 1), col = c('grey', 'green', 'red', 'red'), horiz = T)"
   ]
  }
 ],
 "metadata": {
  "Rmd_header": {
   "author": "Weiming Hu",
   "date": "November 24, 2018",
   "output": "html_document",
   "title": "Demo 2: Analog Ensemble with Search Space Extension"
  },
  "kernelspec": {
   "display_name": "R",
   "language": "R",
   "name": "ir"
  },
  "language_info": {
   "codemirror_mode": "r",
   "file_extension": ".r",
   "mimetype": "text/x-r-source",
   "name": "R",
   "pygments_lexer": "r"
  }
 },
 "nbformat": 4,
 "nbformat_minor": 0
}
