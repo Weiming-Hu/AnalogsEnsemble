{
 "cells": [
  {
   "cell_type": "code",
   "execution_count": null,
   "metadata": {
    "Rmd_chunk_options": "setup, include=F",
    "autoscroll": false,
    "collapsed": true
   },
   "outputs": [],
   "source": [
    "library(RAnEn)\n",
    "library(maps)\n",
    "library(raster)\n",
    "library(RColorBrewer)"
   ]
  },
  {
   "cell_type": "markdown",
   "metadata": {},
   "source": [
    "\n",
    "## Introduction\n",
    "\n",
    "This article demonstrate how to use the `RAnEn` package with the search extension functionality. If you haven't done so, please read [the instructions for basic usage of `RAnEn`](https://weiming-hu.github.io/AnalogsEnsemble/2018/11/04/demo-1-RAnEn-basics.html) first. This article skips the part that has been covered in the previous article.\n",
    "\n",
    "The classic `AnEn` algorithm searches for the most similar historical foreasts at its current location. Therefore, only forecasts from the current station/grid point will be traversed and compared. This search style is referred to as the *independent search*. Another possible search style is *extended search*, which is also referred to as *search space extension*. It simply indicates that forecasts at nearby stations/grid points are included in the search process. As a result, the search space is significantly larger by using the search space extension.\n",
    "\n",
    "There are currently two ways to define what nearby locations to be included into the search. Users can set the nearest number of neighbors to be included or a distance threshold. Two restraints can be used together.\n",
    "\n",
    "You will learn how to use these functions:\n",
    "\n",
    "- `generateAnalogs`\n",
    "\n",
    "## Data Description\n",
    "\n",
    "We reuse the data from the [demo 1 AnEn Basics](https://weiming-hu.github.io/AnalogsEnsemble/2018/11/04/demo-1-RAnEn-basics.html). Please refer to the article for more detailed data description. The message shows the name of variables loaded.\n",
    "\n"
   ]
  },
  {
   "cell_type": "code",
   "execution_count": null,
   "metadata": {
    "autoscroll": false,
    "collapsed": true
   },
   "outputs": [],
   "source": [
    "load('analysis.RData')\n",
    "load('forecasts.RData')\n",
    "print(ls())"
   ]
  },
  {
   "cell_type": "markdown",
   "metadata": {},
   "source": [
    "\n",
    "## Generate Temperature Forecasts\n",
    "\n",
    "It is similar to generate AnEn forecasts with search space extension functionaltiy. First, we create a configuration and set up some common parameters to what we have done for independent search. **Please note that we specify the type of configuration when we create it**.\n",
    "\n",
    "If you don't understand any of the options, please see the [document](https://weiming-hu.github.io/AnalogsEnsemble/R/reference/generateConfiguration.html).\n",
    "\n"
   ]
  },
  {
   "cell_type": "code",
   "execution_count": null,
   "metadata": {
    "Rmd_chunk_options": "echo=FALSE",
    "autoscroll": false,
    "collapsed": true
   },
   "outputs": [],
   "source": [
    "# We use independent search configuration.\n",
    "config <- generateConfiguration('extendedSearch')\n",
    "\n",
    "# Set up options\n",
    "test.start <- 400\n",
    "test.end <- 400\n",
    "search.start <- 1\n",
    "search.end <- 370\n",
    "config$test_forecasts <- forecasts[, , test.start:test.end, , drop = F]\n",
    "config$test_times <- forecast.times[test.start:test.end]\n",
    "config$search_forecasts <- forecasts[, , search.start:search.end, , drop = F]\n",
    "config$search_times <- forecast.times[search.start:search.end]\n",
    "config$flts <- flts\n",
    "config$search_observations <- analysis\n",
    "config$observation_times <- analysis.times\n",
    "config$weights <- rep(1, dim(forecasts)[1])\n",
    "config$time_match_mode <- 1\n",
    "config$num_members <- 19\n",
    "config$max_flt_nan <- 1\n",
    "config$max_par_nan <- 0\n",
    "config$verbose <- 3"
   ]
  },
  {
   "cell_type": "markdown",
   "metadata": {},
   "source": [
    "\n",
    "Now that we have set up the basic parameters, we need to set up the parameters for search space extension. A list of parameters that should be set is shown below:\n",
    "\n",
    "- test_stations_x\n",
    "- test_stations_y\n",
    "- search_stations_x\n",
    "- search_stations_y\n",
    "- num_nearest\n",
    "- distance\n",
    "- max_num_search_stations\n",
    "- preserve_search_stations\n",
    "\n",
    "The first four parameters specify the locations of search and test stations/grid points. The unit is ambiguous unless it is consistent. It is user defined. It can be meters or lat/lon unless it remains the same for all four parameters. No projection is imposed by the package. Therefore any geographic projection should be done prior to the AnEn computation. `num_nearest` is the number of neighbors that should be included into the search space. `distance` is the threshold to include nearby stations. Similarly, the unit of the distance should be consistent with locations. `max_num_search_stations` is an estimated maximum number of nearby stations that could possibily be found. If you are using `num_nearest`, it is a good practice to set `max_num_search_stations` to the same as `num_nearest`. If you are only using `distance`, there is a possibility that too many nearby stations/grid points are found within this distance and there is not enough memory to store all the search data. User should be responsible to provide an upper limit for how many stations should be included for search. In this sense, `max_num_search_stations` is similar to `num_nearest` but `max_num_search_stations` is an optimization parameter and `num_nearest` is a utility parameter. The last parameter `preserve_search_stations` indicates whether to save the search stations in the returned result.\n",
    "\n",
    "Once we understand the parameters, we set these parameters.\n",
    "\n"
   ]
  },
  {
   "cell_type": "code",
   "execution_count": null,
   "metadata": {
    "Rmd_chunk_options": "echo=FALSE",
    "autoscroll": false,
    "collapsed": true
   },
   "outputs": [],
   "source": [
    "# Because our grid points are the same for test and search forecasts. Their locations are the same.\n",
    "config$test_stations_y <- forecast.ys\n",
    "config$search_stations_y <- forecast.ys\n",
    "\n",
    "# Change the range of x to[-180, 180]\n",
    "config$test_stations_x <- forecast.xs - 360\n",
    "config$search_stations_x <- forecast.xs - 360\n",
    "\n",
    "# Let's use the distance. The unit is in degree.\n",
    "config$distance <- 0.15\n",
    "config$max_num_search_stations <- 15\n",
    "\n",
    "# Save search stations\n",
    "config$preserve_search_stations <- T\n",
    "\n",
    "# Save similarity\n",
    "# config$preserve_similarity <- T"
   ]
  },
  {
   "cell_type": "markdown",
   "metadata": {},
   "source": [
    "\n",
    "Similarly we can generate AnEn and bias correct the AnEn.\n",
    "\n"
   ]
  },
  {
   "cell_type": "code",
   "execution_count": null,
   "metadata": {
    "autoscroll": false,
    "collapsed": true
   },
   "outputs": [],
   "source": [
    "AnEn <- generateAnalogs(config)\n",
    "AnEn <- biasCorrection(AnEn, config, forecast.ID = 1, group.func = mean,\n",
    "                       na.rm = T, show.progress = F)"
   ]
  },
  {
   "cell_type": "markdown",
   "metadata": {},
   "source": [
    "\n",
    "By now we have our AnEn forecasts. Note that we have the search stations stored in the returned result.\n",
    "\n"
   ]
  },
  {
   "cell_type": "code",
   "execution_count": null,
   "metadata": {
    "autoscroll": false,
    "collapsed": true
   },
   "outputs": [],
   "source": [
    "print(AnEn)"
   ]
  },
  {
   "cell_type": "markdown",
   "metadata": {},
   "source": [
    "\n",
    "## Visualization\n",
    "\n",
    "Finally, we can make some plots.\n",
    "\n"
   ]
  },
  {
   "cell_type": "code",
   "execution_count": null,
   "metadata": {
    "autoscroll": false,
    "collapsed": true
   },
   "outputs": [],
   "source": [
    "# Choose a FLT to plot\n",
    "i.flt <- 31\n",
    "\n",
    "# Calculate ensemble means\n",
    "mean.analogs <- apply(AnEn$analogs[, , , , 1, drop = F], c(1, 2, 3), mean, na.rm = T)\n",
    "mean.analogs.cor <- apply(AnEn$analogs.cor[, , , , 1, drop = F], c(1, 2, 3), mean, na.rm = T)\n",
    "\n",
    "# Create an empty raster for the geographical region\n",
    "xy <- cbind(as.numeric(forecast.xs) - 360, as.numeric(forecast.ys))\n",
    "colnames(xy) = c('x', 'y')\n",
    "ext <- extent(xy[, c('x', 'y')])\n",
    "rast <- raster(ext, nrow = 11, ncol = 11, crs = CRS(\"+proj=longlat +datum=WGS84\"))\n",
    "\n",
    "# Rasterize the data values\n",
    "rast.anen <- rasterize(xy[, c('x', 'y')], rast, mean.analogs[, 1, i.flt], fun = mean)\n",
    "rast.anen.cor <- rasterize(xy[, c('x', 'y')], rast, mean.analogs.cor[, 1, i.flt], fun = mean)\n",
    "rast.fcts <- rasterize(xy[, c('x', 'y')], rast, forecasts[1, , test.start, i.flt], fun = mean)\n",
    "rast.anly <- rasterize(xy[, c('x', 'y')], rast, analysis[\n",
    "  1, , which(analysis.times == forecast.times[test.start] + flts[i.flt])], fun = mean)\n",
    "\n",
    "# Calculate RMSE\n",
    "rmse.fcts <- sqrt(mean((values(rast.fcts - rast.anly))^2, na.rm = T))\n",
    "rmse.anen <- sqrt(mean((values(rast.anen - rast.anly))^2, na.rm = T))\n",
    "rmse.anen.cor <- sqrt(mean((values(rast.anen.cor - rast.anly))^2, na.rm = T))\n",
    "\n",
    "# Create a color scale with 100 colors\n",
    "cols <- colorRampPalette(brewer.pal(11, 'Spectral')[11:1])(100)\n",
    "\n",
    "# Define value limit\n",
    "zlim <- range(c(values(rast.fcts), values(rast.anen),\n",
    "                values(rast.anly), values(rast.anen.cor)),\n",
    "              na.rm = T)\n",
    "# Visualization\n",
    "par(mfrow = c(2, 2), mar = c(4, 1, 3, 3))\n",
    "plot(rast.anly, main = 'NAM Analysis', col = cols, zlim = zlim, legend = F)\n",
    "map(col = 'grey', add = T); map('state', add = T)\n",
    "plot(rast.fcts, main = 'NAM Forecasts', col = cols, zlim = zlim,\n",
    "     xlab = paste('RMSE =', round(rmse.fcts, 4)))\n",
    "map(col = 'grey', add = T); map('state', add = T)\n",
    "plot(rast.anen, main = 'AnEn Averaged', col = cols, zlim = zlim,\n",
    "     legend = F, xlab = paste('RMSE =', round(rmse.anen, 4)))\n",
    "map(col = 'grey', add = T); map('state', add = T)\n",
    "plot(rast.anen.cor, main = 'Bias Corrected AnEn Averaged', col = cols,\n",
    "     zlim = zlim, xlab = paste('RMSE =', round(rmse.anen.cor, 4)))\n",
    "map(col = 'grey', add = T); map('state', add = T)"
   ]
  },
  {
   "cell_type": "markdown",
   "metadata": {},
   "source": [
    "\n",
    "We can also visualize the test and search stations.\n",
    "\n"
   ]
  },
  {
   "cell_type": "code",
   "execution_count": null,
   "metadata": {
    "autoscroll": false,
    "collapsed": true
   },
   "outputs": [],
   "source": [
    "# Select a test location of which the search locations will be shown.\n",
    "test.station.index <- 41\n",
    "day.index <- 1\n",
    "flt.index <- 1\n",
    "\n",
    "# Parameters for plot\n",
    "cex <- 1\n",
    "offset <- 10\n",
    "label.size <- .8\n",
    "title <- 'Search Space Demo'\n",
    "\n",
    "# Get the selected stations from ensemble members\n",
    "selected.stations <- unique(\n",
    "  AnEn$analogs[test.station.index, day.index, flt.index, , 2])\n",
    "\n",
    "# plot different types of stations together\n",
    "par(mfrow = c(1, 1))\n",
    "plot(config$search_stations_x, config$search_stations_y, xlab = 'x', ylab = 'y',\n",
    "     main = title, pch = 19, cex = cex, col = 'grey', asp=1)\n",
    "map(col = 'grey', add = T); map('state', add = T)\n",
    "points(config$search_stations_x[AnEn$searchStations[, test.station.index]],\n",
    "       config$search_stations_y[AnEn$searchStations[, test.station.index]],\n",
    "       pch = 19, cex = cex, col = 'green')\n",
    "points(config$test_stations_x[test.station.index],\n",
    "       config$test_stations_y[test.station.index],\n",
    "       pch = 19, cex = cex/2, col = 'red')\n",
    "points(config$search_stations_x[selected.stations],\n",
    "       config$search_stations_y[selected.stations],\n",
    "       cex = cex*1.6, col = 'red')\n",
    "\n",
    "\n",
    "if (config$distance > 0) {\n",
    "  coords <- generateCircleCoords(\n",
    "    x = config$test_stations_x[test.station.index],\n",
    "    y = config$test_stations_y[test.station.index],\n",
    "    radius = config$distance, np = 100)\n",
    "\n",
    "  points(coords, cex = .1, pch = 19)\n",
    "}\n",
    "\n",
    "legend('top', legend = c('grid point', 'search', 'test', 'selected'),\n",
    "       pch = c(19, 19, 19 , 1), col = c('grey', 'green', 'red', 'red'), horiz = T)"
   ]
  },
  {
   "cell_type": "markdown",
   "metadata": {},
   "source": [
    "\n",
    "\n",
    "\n",
    "\n",
    "\n",
    "\n",
    "\n",
    "\n",
    "\n",
    "\n",
    "\n",
    "\n",
    "\n",
    "\n",
    "\n",
    "\n",
    "\n",
    "\n",
    "\n",
    "\n",
    "\n",
    "\n",
    "\n",
    "\n",
    "\n",
    "\n",
    "\n",
    "\n",
    "\n",
    "\n",
    "\n",
    "\n",
    "\n",
    "\n",
    "\n",
    "\n",
    "\n",
    "\n",
    "\n",
    "\n",
    "\n"
   ]
  }
 ],
 "metadata": {
  "Rmd_header": {
   "author": "Weiming Hu",
   "date": "November 24, 2018",
   "output": "html_document",
   "title": "Demo 2: Analog Ensemble with Search Space Extension"
  },
  "kernelspec": {
   "display_name": "R",
   "language": "R",
   "name": "ir"
  },
  "language_info": {
   "codemirror_mode": "r",
   "file_extension": ".r",
   "mimetype": "text/x-r-source",
   "name": "R",
   "pygments_lexer": "r"
  }
 },
 "nbformat": 4,
 "nbformat_minor": 0
}
