{
 "cells": [
  {
   "cell_type": "code",
   "execution_count": 1,
   "metadata": {},
   "outputs": [
    {
     "name": "stdout",
     "output_type": "stream",
     "text": [
      "OpenMP is supported.\n"
     ]
    },
    {
     "name": "stderr",
     "output_type": "stream",
     "text": [
      "Package 'RAnEn' version 3.0.8\n",
      "Copyright (c) 2018 Weiming Hu\n"
     ]
    }
   ],
   "source": [
    "library(RAnEn)"
   ]
  },
  {
   "cell_type": "code",
   "execution_count": 5,
   "metadata": {},
   "outputs": [
    {
     "name": "stdout",
     "output_type": "stream",
     "text": [
      " [1] \"mode\"                \"test_forecasts\"      \"search_forecasts\"   \n",
      " [4] \"search_times\"        \"search_flts\"         \"search_observations\"\n",
      " [7] \"observation_times\"   \"observation_id\"      \"num_members\"        \n",
      "[10] \"circulars\"           \"weights\"             \"quick\"              \n",
      "[13] \"preserve_real_time\"  \"preserve_similarity\" \"preserve_mapping\"   \n",
      "[16] \"time_match_mode\"     \"max_par_nan\"         \"max_flt_nan\"        \n",
      "[19] \"verbose\"            \n"
     ]
    }
   ],
   "source": [
    "config <- generateConfiguration('independentSearch')\n",
    "print(names(config))"
   ]
  },
  {
   "cell_type": "code",
   "execution_count": null,
   "metadata": {},
   "outputs": [],
   "source": []
  }
 ],
 "metadata": {
  "kernelspec": {
   "display_name": "R",
   "language": "R",
   "name": "ir"
  },
  "language_info": {
   "codemirror_mode": "r",
   "file_extension": ".r",
   "mimetype": "text/x-r-source",
   "name": "R",
   "pygments_lexer": "r",
   "version": "3.4.4"
  }
 },
 "nbformat": 4,
 "nbformat_minor": 2
}
