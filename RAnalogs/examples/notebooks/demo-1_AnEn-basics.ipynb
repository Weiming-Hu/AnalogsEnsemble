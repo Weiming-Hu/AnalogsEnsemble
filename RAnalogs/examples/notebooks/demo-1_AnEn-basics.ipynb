{
 "cells": [
  {
   "cell_type": "markdown",
   "metadata": {},
   "source": [
    "---\n",
    "title: \"Demo 1: Analog Ensemble Basics\"\n",
    "author: \"Weiming Hu\"\n",
    "date: \"October 29, 2018\"\n",
    "output: html_document\n",
    "---\n",
    "\n",
    "\n",
    "\n",
    "## Introduction\n",
    "\n",
    "This article walks you through the basic usage of the `RAnEn` library in a practice of short-term surface temperature forecasts. Data are prepared using the `generate-data.R` script from [North American Mesoscale Forecast System (NAM)](https://www.ncdc.noaa.gov/data-access/model-data/model-datasets/north-american-mesoscale-forecast-system-nam). \n",
    "\n",
    "You will learn how to use these functions:\n",
    "\n",
    "- `generateConfiguration`\n",
    "- `generateAnalogs`\n",
    "- `biasCorrection`\n",
    "\n",
    "## Data Description\n",
    "\n",
    "First, let's load the prepared NAM model forecasts and analysis."
   ]
  },
  {
   "cell_type": "code",
   "execution_count": null,
   "metadata": {},
   "outputs": [],
   "source": [
    "%%R\n",
    "load('analysis.RData')\n",
    "load('forecasts.RData')\n",
    "print(ls())"
   ]
  }
 ],
 "metadata": {},
 "nbformat": 4,
 "nbformat_minor": 2
}
